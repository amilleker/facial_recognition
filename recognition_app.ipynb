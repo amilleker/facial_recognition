{
 "cells": [
  {
   "cell_type": "code",
   "execution_count": 1,
   "metadata": {},
   "outputs": [],
   "source": [
    "import cv2\n",
    "import face_recognition\n",
    "import cv2\n",
    "import numpy as np"
   ]
  },
  {
   "cell_type": "code",
   "execution_count": 2,
   "metadata": {},
   "outputs": [],
   "source": [
    "alex_image = face_recognition.load_image_file(\"photos/aleksandr.jpg\")\n",
    "arnaud_image = face_recognition.load_image_file(\"photos/arnaud_simple.jpg\")\n",
    "sergey_image = face_recognition.load_image_file(\"photos/sergei.jpg\")\n",
    "eddie_image = face_recognition.load_image_file(\"photos/Eddie.jpg\")"
   ]
  },
  {
   "cell_type": "code",
   "execution_count": 3,
   "metadata": {},
   "outputs": [],
   "source": [
    "alex_image_encoding = face_recognition.face_encodings(alex_image)[0]\n",
    "sergey_image_encoding = face_recognition.face_encodings(sergey_image)[0]\n",
    "eddie_image_encoding = face_recognition.face_encodings(eddie_image)[0]\n",
    "arnaud_image_encoding = face_recognition.face_encodings(arnaud_image)[0]\n",
    "\n",
    "\n",
    "known_face_encodings = [\n",
    "    alex_image_encoding,\n",
    "    sergey_image_encoding,\n",
    "    eddie_image_encoding,\n",
    "    arnaud_image_encoding\n",
    "]\n",
    "known_face_names = [\n",
    "    \"Alexander\",\n",
    "    \"Sergey\",\n",
    "    \"Eddie\",\n",
    "    \"Arnaud\"\n",
    "]"
   ]
  },
  {
   "cell_type": "code",
   "execution_count": 4,
   "metadata": {},
   "outputs": [
    {
     "name": "stdout",
     "output_type": "stream",
     "text": [
      "photos/opencv_frame_0.png written!\n"
     ]
    }
   ],
   "source": [
    "cam = cv2.VideoCapture(0)\n",
    "\n",
    "cv2.namedWindow(\"test\")\n",
    "\n",
    "img_counter = 0\n",
    "\n",
    "while True:\n",
    "    ret, frame = cam.read()\n",
    "    cv2.imshow(\"test\", frame)\n",
    "    if not ret:\n",
    "        break\n",
    "    k = cv2.waitKey(1)\n",
    "\n",
    "    if k%256 == 27:\n",
    "        # ESC pressed\n",
    "        print(\"Escape hit, closing...\")\n",
    "        break\n",
    "    elif k%256 == 32:\n",
    "        # SPACE pressed\n",
    "        img_name = \"photos/opencv_frame_{}.png\".format(img_counter)\n",
    "        cv2.imwrite(img_name, frame)\n",
    "        print(\"{} written!\".format(img_name))\n",
    "        img_counter += 1\n",
    "        break\n",
    "\n",
    "cam.release()        \n",
    "cv2.destroyAllWindows()"
   ]
  },
  {
   "cell_type": "code",
   "execution_count": 5,
   "metadata": {},
   "outputs": [],
   "source": [
    "unknown_image = face_recognition.load_image_file(img_name)\n",
    "unknown_face_encoding = face_recognition.face_encodings(unknown_image)[0]\n",
    "results = face_recognition.compare_faces(known_face_encodings, unknown_face_encoding)"
   ]
  },
  {
   "cell_type": "code",
   "execution_count": 6,
   "metadata": {},
   "outputs": [
    {
     "name": "stdout",
     "output_type": "stream",
     "text": [
      "Are you Arnaud ?\n"
     ]
    }
   ],
   "source": [
    "print(\"Are you \"+known_face_names[results.index(True)]+\" ?\")"
   ]
  },
  {
   "cell_type": "code",
   "execution_count": null,
   "metadata": {},
   "outputs": [],
   "source": []
  }
 ],
 "metadata": {
  "kernelspec": {
   "display_name": "Python 3",
   "language": "python",
   "name": "python3"
  },
  "language_info": {
   "codemirror_mode": {
    "name": "ipython",
    "version": 3
   },
   "file_extension": ".py",
   "mimetype": "text/x-python",
   "name": "python",
   "nbconvert_exporter": "python",
   "pygments_lexer": "ipython3",
   "version": "3.7.4"
  }
 },
 "nbformat": 4,
 "nbformat_minor": 2
}
