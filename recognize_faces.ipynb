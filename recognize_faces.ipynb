{
 "cells": [
  {
   "cell_type": "code",
   "execution_count": 7,
   "metadata": {},
   "outputs": [],
   "source": [
    "import face_recognition"
   ]
  },
  {
   "cell_type": "code",
   "execution_count": 9,
   "metadata": {},
   "outputs": [],
   "source": [
    "aleksandr_image = face_recognition.load_image_file(\"photos/aleksandr.jpg\")\n",
    "arnaud_simple_image = face_recognition.load_image_file(\"photos/arnaud_simple.jpg\")\n",
    "test_business_guy_image = face_recognition.load_image_file(\"photos/test_business_guy.jpeg\")\n",
    "test_glasses_smiling_guy_image = face_recognition.load_image_file(\"photos/test_glasses_smiling_guy.jpg\")\n",
    "test_russian_glasses_image = face_recognition.load_image_file(\"photos/test_russian_glasses.jpg\")\n",
    "young_aleksandr_image = face_recognition.load_image_file(\"photos/young_aleksandr.jpeg\")\n",
    "test_woman_black_image = face_recognition.load_image_file(\"photos/test_woman_black.jpeg\")\n",
    "arnaud_linkedin_image = face_recognition.load_image_file(\"photos/arnaud_linkedin.jpeg\")\n",
    "arnaud_profil_smile_image = face_recognition.load_image_file(\"photos/arnaud_profil_smile.jpg\")\n",
    "arnaud_sweat_image = face_recognition.load_image_file(\"photos/arnaud_sweat.jpg\")\n",
    "arnaud_unglasses_image = face_recognition.load_image_file(\"photos/arnaud_unglasses.jpg\")\n",
    "\n",
    "unknown_image = face_recognition.load_image_file(\"opencv_frame_0.png\")"
   ]
  },
  {
   "cell_type": "code",
   "execution_count": 10,
   "metadata": {},
   "outputs": [],
   "source": [
    "try:\n",
    "    aleksandr_image_face_encoding = face_recognition.face_encodings(aleksandr_image)[0]\n",
    "    arnaud_simple_face_encoding = face_recognition.face_encodings(arnaud_simple_image)[0]\n",
    "    test_business_guy_face_encoding = face_recognition.face_encodings(test_business_guy_image)[0]\n",
    "    test_glasses_smiling_guy_face_encoding = face_recognition.face_encodings(test_glasses_smiling_guy_image)[0]\n",
    "    test_russian_glasses_face_encoding = face_recognition.face_encodings(test_russian_glasses_image)[0]\n",
    "    young_aleksandr_encoding = face_recognition.face_encodings(young_aleksandr_image)[0]\n",
    "    test_woman_black_face_encoding = face_recognition.face_encodings(test_woman_black_image)[0]\n",
    "    arnaud_linkedin_face_encoding = face_recognition.face_encodings(arnaud_linkedin_image)[0]\n",
    "    arnaud_profil_smile_face_encoding = face_recognition.face_encodings(arnaud_profil_smile_image)[0]\n",
    "    arnaud_sweat_face_encoding = face_recognition.face_encodings(arnaud_sweat_image)[0]\n",
    "    arnaud_unglasses_face_encoding = face_recognition.face_encodings(arnaud_unglasses_image)[0]\n",
    "    unknown_face_encoding = face_recognition.face_encodings(unknown_image)[0]\n",
    "except IndexError:\n",
    "    print(\"I wasn't able to locate any faces in at least one of the images. Check the image files. Aborting...\")\n",
    "    quit()"
   ]
  },
  {
   "cell_type": "code",
   "execution_count": 11,
   "metadata": {},
   "outputs": [],
   "source": [
    "known_faces = [\n",
    "    aleksandr_image_face_encoding,\n",
    "    arnaud_simple_face_encoding,\n",
    "    test_business_guy_face_encoding,\n",
    "    test_glasses_smiling_guy_face_encoding,\n",
    "    test_russian_glasses_face_encoding,\n",
    "    young_aleksandr_encoding,\n",
    "    test_woman_black_face_encoding,\n",
    "    arnaud_linkedin_face_encoding,\n",
    "    arnaud_profil_smile_face_encoding,\n",
    "    arnaud_sweat_face_encoding,\n",
    "    arnaud_unglasses_face_encoding\n",
    "]"
   ]
  },
  {
   "cell_type": "code",
   "execution_count": 12,
   "metadata": {},
   "outputs": [
    {
     "data": {
      "text/plain": [
       "[False, True, False, False, False, False, False, True, True, True, True]"
      ]
     },
     "execution_count": 12,
     "metadata": {},
     "output_type": "execute_result"
    }
   ],
   "source": [
    "results = face_recognition.compare_faces(known_faces, unknown_face_encoding)\n",
    "results"
   ]
  },
  {
   "cell_type": "code",
   "execution_count": null,
   "metadata": {},
   "outputs": [],
   "source": []
  }
 ],
 "metadata": {
  "kernelspec": {
   "display_name": "Python 3",
   "language": "python",
   "name": "python3"
  },
  "language_info": {
   "codemirror_mode": {
    "name": "ipython",
    "version": 3
   },
   "file_extension": ".py",
   "mimetype": "text/x-python",
   "name": "python",
   "nbconvert_exporter": "python",
   "pygments_lexer": "ipython3",
   "version": "3.7.4"
  }
 },
 "nbformat": 4,
 "nbformat_minor": 2
}
